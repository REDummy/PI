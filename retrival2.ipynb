{
 "cells": [
  {
   "cell_type": "code",
   "execution_count": 335,
   "id": "initial_id",
   "metadata": {
    "collapsed": true,
    "ExecuteTime": {
     "end_time": "2023-09-20T09:18:51.005337400Z",
     "start_time": "2023-09-20T09:18:50.919025400Z"
    }
   },
   "outputs": [],
   "source": []
  },
  {
   "cell_type": "code",
   "execution_count": 336,
   "outputs": [
    {
     "name": "stderr",
     "output_type": "stream",
     "text": [
      "[nltk_data] Downloading package stopwords to\n",
      "[nltk_data]     C:\\Users\\anton\\AppData\\Roaming\\nltk_data...\n",
      "[nltk_data]   Package stopwords is already up-to-date!\n",
      "[nltk_data] Downloading package punkt to\n",
      "[nltk_data]     C:\\Users\\anton\\AppData\\Roaming\\nltk_data...\n",
      "[nltk_data]   Package punkt is already up-to-date!\n"
     ]
    }
   ],
   "source": [
    "import nltk\n",
    "nltk.download('stopwords')\n",
    "nltk.download('punkt')\n",
    "from nltk.corpus import stopwords\n",
    "from nltk.stem import WordNetLemmatizer, PorterStemmer\n",
    "from nltk.tokenize import sent_tokenize , word_tokenize\n",
    "import glob\n",
    "import re\n",
    "import os\n",
    "import numpy as np\n",
    "import sys\n",
    "Stopwords = set(stopwords.words('indonesian'))\n",
    "from Sastrawi.Stemmer.StemmerFactory import StemmerFactory\n",
    "factory = StemmerFactory()\n",
    "stemmer = factory.create_stemmer()"
   ],
   "metadata": {
    "collapsed": false,
    "ExecuteTime": {
     "end_time": "2023-09-20T09:18:51.006897100Z",
     "start_time": "2023-09-20T09:18:50.935542700Z"
    }
   },
   "id": "b8a94dabc94a8319"
  },
  {
   "cell_type": "code",
   "execution_count": 337,
   "outputs": [],
   "source": [
    "def finding_all_unique_words_and_freq(words):\n",
    "    words_unique = []\n",
    "    word_freq = {}\n",
    "    for word in words:\n",
    "        if word not in words_unique:\n",
    "            words_unique.append(word)\n",
    "    for word in words_unique:\n",
    "        word_freq[word] = words.count(word)\n",
    "    return word_freq\n",
    "\n",
    "def remove_special_characters(text):\n",
    "    regex = re.compile('[^a-zA-Z0-9\\s]')\n",
    "    text_returned = re.sub(regex,'',text)\n",
    "    return text_returned"
   ],
   "metadata": {
    "collapsed": false,
    "ExecuteTime": {
     "end_time": "2023-09-20T09:18:51.006897100Z",
     "start_time": "2023-09-20T09:18:50.965102100Z"
    }
   },
   "id": "507d76a5adc19c7d"
  },
  {
   "cell_type": "code",
   "execution_count": 338,
   "outputs": [
    {
     "name": "stdout",
     "output_type": "stream",
     "text": [
      "text\\docA\n",
      "text\\docB\n",
      "text\\docC\n"
     ]
    }
   ],
   "source": [
    "\n",
    "all_words = []\n",
    "dict_global = {}\n",
    "# file_folder = 'export/*'\n",
    "file_folder = 'text/*'\n",
    "idx = 1\n",
    "files_with_index = {}\n",
    "for file in glob.glob(file_folder):\n",
    "    print(file)\n",
    "    fname = file\n",
    "    file = open(file , \"r\")\n",
    "    text = file.read()\n",
    "    text = remove_special_characters(text)\n",
    "    text = re.sub(re.compile('\\d'),'',text)\n",
    "    sentences = sent_tokenize(text)\n",
    "    words = word_tokenize(text)\n",
    "    words = [word for word in words if len(words)>1]\n",
    "    words = [word.lower() for word in words]\n",
    "    words = [word for word in words if word not in Stopwords]\n",
    "    words = [stemmer.stem(word) for word in words]\n",
    "    dict_global.update(finding_all_unique_words_and_freq(words))\n",
    "    files_with_index[idx] = os.path.basename(fname)\n",
    "    idx = idx + 1\n",
    "unique_words_all = set(dict_global.keys())\n"
   ],
   "metadata": {
    "collapsed": false,
    "ExecuteTime": {
     "end_time": "2023-09-20T09:18:51.006897100Z",
     "start_time": "2023-09-20T09:18:50.981685800Z"
    }
   },
   "id": "c7f6ac76425e0b64"
  },
  {
   "cell_type": "code",
   "execution_count": 339,
   "outputs": [],
   "source": [
    "class Node:\n",
    "    def __init__(self ,docId, freq = 0):\n",
    "        self.freq = freq\n",
    "        self.tfidf = 0\n",
    "        self.doc = docId\n",
    "        self.nextval = None\n",
    "class SlinkedList:\n",
    "    def __init__(self ,head = None, nDoc=0):\n",
    "        self.head = head\n",
    "        self.ndoc = nDoc\n",
    "        self.idf = 0"
   ],
   "metadata": {
    "collapsed": false,
    "ExecuteTime": {
     "end_time": "2023-09-20T09:18:51.008853300Z",
     "start_time": "2023-09-20T09:18:50.995814100Z"
    }
   },
   "id": "48f3c35a9cd477e1"
  },
  {
   "cell_type": "code",
   "execution_count": 340,
   "outputs": [],
   "source": [
    "linked_list_data = {}\n",
    "for word in unique_words_all:\n",
    "    linked_list_data[word] = SlinkedList()\n",
    "    linked_list_data[word].head = Node(1,Node)\n",
    "word_freq_in_doc = {}\n",
    "idx = 0\n",
    "for file in glob.glob(file_folder):\n",
    "    file = open(file, \"r\")\n",
    "    text = file.read()\n",
    "    text = remove_special_characters(text)\n",
    "    text = re.sub(re.compile('\\d'),'',text)\n",
    "    sentences = sent_tokenize(text)\n",
    "    words = word_tokenize(text)\n",
    "    words = [word for word in words if len(words)>=1]\n",
    "    words = [word.lower() for word in words]\n",
    "    words = [word for word in words if word not in Stopwords]\n",
    "    words = [stemmer.stem(word) for word in words]\n",
    "    word_freq_in_doc = finding_all_unique_words_and_freq(words)\n",
    "    for word in word_freq_in_doc.keys():\n",
    "        linked_list = linked_list_data[word].head\n",
    "        linked_list_data[word].ndoc=linked_list_data[word].ndoc+1\n",
    "        while linked_list.nextval is not None:\n",
    "            linked_list = linked_list.nextval\n",
    "        linked_list.nextval = Node(idx ,word_freq_in_doc[word])\n",
    "    idx = idx + 1"
   ],
   "metadata": {
    "collapsed": false,
    "ExecuteTime": {
     "end_time": "2023-09-20T09:18:51.023822100Z",
     "start_time": "2023-09-20T09:18:51.007853100Z"
    }
   },
   "id": "2966de16a359d82"
  },
  {
   "cell_type": "code",
   "execution_count": 341,
   "outputs": [
    {
     "name": "stdout",
     "output_type": "stream",
     "text": [
      "1.584962500721156\n",
      "oil   5\n",
      "oil   12\n",
      "1.0\n",
      "economy   24\n",
      "economy   10\n",
      "economy   8\n",
      "1.0\n",
      "scotland   3\n",
      "scotland   20\n",
      "scotland   9\n",
      "1.584962500721156\n",
      "northsea   12\n",
      "northsea   10\n"
     ]
    }
   ],
   "source": [
    "import math\n",
    "import operator\n",
    "nTot=len(files_with_index)\n",
    "for word in unique_words_all:\n",
    "    linkedlist = linked_list_data[word].head\n",
    "    df=linked_list_data[word].ndoc\n",
    "    idf=0\n",
    "    idf = math.log2(nTot/df)+1\n",
    "    linked_list_data[word].idf=idf\n",
    "    print(linked_list_data[word].idf)\n",
    "    while linkedlist.nextval is not None:\n",
    "        linkedlist = linkedlist.nextval\n",
    "        linkedlist.tfidf = idf * linkedlist.freq\n",
    "        print(word, \" \", linkedlist.freq )\n",
    "        \n"
   ],
   "metadata": {
    "collapsed": false,
    "ExecuteTime": {
     "end_time": "2023-09-20T09:18:51.126581900Z",
     "start_time": "2023-09-20T09:18:51.028333600Z"
    }
   },
   "id": "26bcebd74ad16016"
  },
  {
   "cell_type": "code",
   "execution_count": 342,
   "outputs": [
    {
     "name": "stdout",
     "output_type": "stream",
     "text": [
      "{1: 'docA', 2: 'docB', 3: 'docC'}\n"
     ]
    }
   ],
   "source": [
    "print(files_with_index)"
   ],
   "metadata": {
    "collapsed": false,
    "ExecuteTime": {
     "end_time": "2023-09-20T09:18:51.127764700Z",
     "start_time": "2023-09-20T09:18:51.037858200Z"
    }
   },
   "id": "b879dade427224f2"
  },
  {
   "cell_type": "code",
   "execution_count": 343,
   "outputs": [],
   "source": [
    "dict_words=list(unique_words_all)\n",
    "total_files = len(files_with_index)\n",
    "total_vocab = len(dict_words)\n",
    "vecD = np.zeros((total_files,total_vocab))\n",
    "for i in range(len(dict_words)):\n",
    "    linkedlist = linked_list_data[dict_words[i]].head\n",
    "    while linkedlist.nextval is not None:\n",
    "        linkedlist = linkedlist.nextval\n",
    "        vecD[linkedlist.doc][i] = linkedlist.tfidf"
   ],
   "metadata": {
    "collapsed": false,
    "ExecuteTime": {
     "end_time": "2023-09-20T09:18:51.128765100Z",
     "start_time": "2023-09-20T09:18:51.058922900Z"
    }
   },
   "id": "c2499f6600d17b3c"
  },
  {
   "cell_type": "code",
   "execution_count": 344,
   "outputs": [
    {
     "name": "stdout",
     "output_type": "stream",
     "text": [
      "northsea\n",
      "oil\n",
      "scotland\n",
      "economy\n"
     ]
    }
   ],
   "source": [
    "query = input('Enter your query:')\n",
    "dict_query = {}\n",
    "vecQ = np.zeros(total_vocab)\n",
    "wordsq = word_tokenize(query)\n",
    "wordsq = [word for word in wordsq if len(wordsq)>=1]\n",
    "wordsq = [word.lower() for word in wordsq]\n",
    "wordsq = [word for word in wordsq if word not in Stopwords]\n",
    "wordsq = [stemmer.stem(word) for word in wordsq]\n",
    "dict_query.update(finding_all_unique_words_and_freq(wordsq))\n",
    "for word in dict_query.keys():\n",
    "    print(word)\n",
    "    vecQ[dict_words.index(word)] = linked_list_data[word].idf * dict_query[word]\n"
   ],
   "metadata": {
    "collapsed": false,
    "ExecuteTime": {
     "end_time": "2023-09-20T09:18:55.239641Z",
     "start_time": "2023-09-20T09:18:51.070436200Z"
    }
   },
   "id": "f2197883d5aef181"
  },
  {
   "cell_type": "code",
   "execution_count": 345,
   "outputs": [],
   "source": [
    "def cosine_sim(a, b):\n",
    "    cos_sim = np.dot(a, b)/(np.linalg.norm(a)*np.linalg.norm(b))\n",
    "    return cos_sim"
   ],
   "metadata": {
    "collapsed": false,
    "ExecuteTime": {
     "end_time": "2023-09-20T09:18:55.239641Z",
     "start_time": "2023-09-20T09:18:55.144271500Z"
    }
   },
   "id": "e386cf570a24ca5e"
  },
  {
   "cell_type": "code",
   "execution_count": 346,
   "outputs": [
    {
     "name": "stdout",
     "output_type": "stream",
     "text": [
      "[1 2 0]\n",
      "docB\n",
      "docC\n",
      "docA\n"
     ]
    }
   ],
   "source": [
    "d_cosines = []\n",
    "# print(vecD)\n",
    "for d in vecD:\n",
    "    d_cosines.append(cosine_sim(vecQ,d))\n",
    "    # print(d_cosines)\n",
    "out=np.array(d_cosines).argsort()[-total_files:][::-1]\n",
    "print(out)\n",
    "\n",
    "for a in out :\n",
    "    print(files_with_index[a+1])"
   ],
   "metadata": {
    "collapsed": false,
    "ExecuteTime": {
     "end_time": "2023-09-20T09:18:55.241640700Z",
     "start_time": "2023-09-20T09:18:55.153817500Z"
    }
   },
   "id": "f482a0cca9de938d"
  }
 ],
 "metadata": {
  "kernelspec": {
   "display_name": "Python 3",
   "language": "python",
   "name": "python3"
  },
  "language_info": {
   "codemirror_mode": {
    "name": "ipython",
    "version": 2
   },
   "file_extension": ".py",
   "mimetype": "text/x-python",
   "name": "python",
   "nbconvert_exporter": "python",
   "pygments_lexer": "ipython2",
   "version": "2.7.6"
  }
 },
 "nbformat": 4,
 "nbformat_minor": 5
}
