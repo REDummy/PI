{
 "cells": [
  {
   "cell_type": "code",
   "execution_count": 109,
   "id": "initial_id",
   "metadata": {
    "collapsed": true,
    "ExecuteTime": {
     "end_time": "2023-09-13T09:50:03.437257100Z",
     "start_time": "2023-09-13T09:50:03.335117300Z"
    }
   },
   "outputs": [],
   "source": []
  },
  {
   "cell_type": "code",
   "execution_count": 110,
   "outputs": [
    {
     "name": "stderr",
     "output_type": "stream",
     "text": [
      "[nltk_data] Downloading package stopwords to\n",
      "[nltk_data]     C:\\Users\\anton\\AppData\\Roaming\\nltk_data...\n",
      "[nltk_data]   Package stopwords is already up-to-date!\n",
      "[nltk_data] Downloading package punkt to\n",
      "[nltk_data]     C:\\Users\\anton\\AppData\\Roaming\\nltk_data...\n",
      "[nltk_data]   Package punkt is already up-to-date!\n"
     ]
    }
   ],
   "source": [
    "import nltk\n",
    "nltk.download('stopwords')\n",
    "nltk.download('punkt')\n",
    "from nltk.corpus import stopwords\n",
    "from nltk.stem import WordNetLemmatizer, PorterStemmer\n",
    "from nltk.tokenize import sent_tokenize , word_tokenize\n",
    "import glob\n",
    "import re\n",
    "import os\n",
    "import numpy as np\n",
    "import sys\n",
    "Stopwords = set(stopwords.words('indonesian'))\n",
    "from Sastrawi.Stemmer.StemmerFactory import StemmerFactory\n",
    "factory = StemmerFactory()\n",
    "stemmer = factory.create_stemmer()"
   ],
   "metadata": {
    "collapsed": false,
    "ExecuteTime": {
     "end_time": "2023-09-13T09:50:03.437257100Z",
     "start_time": "2023-09-13T09:50:03.347415700Z"
    }
   },
   "id": "b8a94dabc94a8319"
  },
  {
   "cell_type": "code",
   "execution_count": 111,
   "outputs": [],
   "source": [
    "def finding_all_unique_words_and_freq(words):\n",
    "    words_unique = []\n",
    "    word_freq = {}\n",
    "    for word in words:\n",
    "        if word not in words_unique:\n",
    "            words_unique.append(word)\n",
    "    for word in words_unique:\n",
    "        word_freq[word] = words.count(word)\n",
    "    return word_freq\n",
    "\n",
    "def remove_special_characters(text):\n",
    "    regex = re.compile('[^a-zA-Z0-9\\s]')\n",
    "    text_returned = re.sub(regex,'',text)\n",
    "    return text_returned"
   ],
   "metadata": {
    "collapsed": false,
    "ExecuteTime": {
     "end_time": "2023-09-13T09:50:03.437257100Z",
     "start_time": "2023-09-13T09:50:03.369224600Z"
    }
   },
   "id": "507d76a5adc19c7d"
  },
  {
   "cell_type": "code",
   "execution_count": 112,
   "outputs": [
    {
     "name": "stdout",
     "output_type": "stream",
     "text": [
      "export\\edukasi1.txt\n",
      "export\\edukasi10.txt\n",
      "export\\edukasi2.txt\n",
      "export\\edukasi3.txt\n",
      "export\\edukasi4.txt\n",
      "export\\edukasi5.txt\n",
      "export\\edukasi6.txt\n",
      "export\\edukasi7.txt\n",
      "export\\edukasi8.txt\n",
      "export\\edukasi9.txt\n",
      "export\\food1.txt\n",
      "export\\food10.txt\n",
      "export\\food2.txt\n",
      "export\\food3.txt\n",
      "export\\food4.txt\n",
      "export\\food5.txt\n",
      "export\\food6.txt\n",
      "export\\food7.txt\n",
      "export\\food8.txt\n",
      "export\\food9.txt\n",
      "export\\money1.txt\n",
      "export\\money10.txt\n",
      "export\\money2.txt\n",
      "export\\money3.txt\n",
      "export\\money4.txt\n",
      "export\\money5.txt\n",
      "export\\money6.txt\n",
      "export\\money7.txt\n",
      "export\\money8.txt\n",
      "export\\money9.txt\n",
      "export\\sains1.txt\n",
      "export\\sains10.txt\n",
      "export\\sains2.txt\n",
      "export\\sains3.txt\n",
      "export\\sains4.txt\n",
      "export\\sains5.txt\n",
      "export\\sains6.txt\n",
      "export\\sains7.txt\n",
      "export\\sains8.txt\n",
      "export\\sains9.txt\n",
      "export\\tekno1.txt\n",
      "export\\tekno10.txt\n",
      "export\\tekno2.txt\n",
      "export\\tekno3.txt\n",
      "export\\tekno4.txt\n",
      "export\\tekno5.txt\n",
      "export\\tekno6.txt\n",
      "export\\tekno7.txt\n",
      "export\\tekno8.txt\n",
      "export\\tekno9.txt\n"
     ]
    }
   ],
   "source": [
    "\n",
    "all_words = []\n",
    "dict_global = {}\n",
    "file_folder = 'export/*'\n",
    "idx = 1\n",
    "files_with_index = {}\n",
    "for file in glob.glob(file_folder):\n",
    "    print(file)\n",
    "    fname = file\n",
    "    file = open(file , \"r\")\n",
    "    text = file.read()\n",
    "    text = remove_special_characters(text)\n",
    "    text = re.sub(re.compile('\\d'),'',text)\n",
    "    sentences = sent_tokenize(text)\n",
    "    words = word_tokenize(text)\n",
    "    words = [word for word in words if len(words)>1]\n",
    "    words = [word.lower() for word in words]\n",
    "    words = [word for word in words if word not in Stopwords]\n",
    "    words = [stemmer.stem(word) for word in words]\n",
    "    dict_global.update(finding_all_unique_words_and_freq(words))\n",
    "    files_with_index[idx] = os.path.basename(fname)\n",
    "    idx = idx + 1\n",
    "unique_words_all = set(dict_global.keys())\n"
   ],
   "metadata": {
    "collapsed": false,
    "ExecuteTime": {
     "end_time": "2023-09-13T09:50:04.685405Z",
     "start_time": "2023-09-13T09:50:03.442265300Z"
    }
   },
   "id": "c7f6ac76425e0b64"
  },
  {
   "cell_type": "code",
   "execution_count": 113,
   "outputs": [],
   "source": [
    "class Node:\n",
    "    def __init__(self ,docId, freq = 0):\n",
    "        self.freq = freq\n",
    "        self.tfidf = 0\n",
    "        self.doc = docId\n",
    "        self.nextval = None\n",
    "class SlinkedList:\n",
    "    def __init__(self ,head = None, nDoc=0):\n",
    "        self.head = head\n",
    "        self.ndoc = nDoc\n",
    "        self.idf = 0"
   ],
   "metadata": {
    "collapsed": false,
    "ExecuteTime": {
     "end_time": "2023-09-13T09:50:04.707424700Z",
     "start_time": "2023-09-13T09:50:04.691415Z"
    }
   },
   "id": "48f3c35a9cd477e1"
  },
  {
   "cell_type": "code",
   "execution_count": 114,
   "outputs": [],
   "source": [
    "linked_list_data = {}\n",
    "for word in unique_words_all:\n",
    "    linked_list_data[word] = SlinkedList()\n",
    "    linked_list_data[word].head = Node(1,Node)\n",
    "word_freq_in_doc = {}\n",
    "idx = 0\n",
    "for file in glob.glob(file_folder):\n",
    "    file = open(file, \"r\")\n",
    "    text = file.read()\n",
    "    text = remove_special_characters(text)\n",
    "    text = re.sub(re.compile('\\d'),'',text)\n",
    "    sentences = sent_tokenize(text)\n",
    "    words = word_tokenize(text)\n",
    "    words = [word for word in words if len(words)>1]\n",
    "    words = [word.lower() for word in words]\n",
    "    words = [word for word in words if word not in Stopwords]\n",
    "    words = [stemmer.stem(word) for word in words]\n",
    "    word_freq_in_doc = finding_all_unique_words_and_freq(words)\n",
    "    for word in word_freq_in_doc.keys():\n",
    "        linked_list = linked_list_data[word].head\n",
    "        linked_list_data[word].ndoc=linked_list_data[word].ndoc+1\n",
    "        while linked_list.nextval is not None:\n",
    "            linked_list = linked_list.nextval\n",
    "        linked_list.nextval = Node(idx ,word_freq_in_doc[word])\n",
    "    idx = idx + 1"
   ],
   "metadata": {
    "collapsed": false,
    "ExecuteTime": {
     "end_time": "2023-09-13T09:50:04.971278600Z",
     "start_time": "2023-09-13T09:50:04.715424800Z"
    }
   },
   "id": "2966de16a359d82"
  },
  {
   "cell_type": "code",
   "execution_count": 115,
   "outputs": [],
   "source": [
    "import math\n",
    "import operator\n",
    "nTot=len(files_with_index)\n",
    "for word in unique_words_all:\n",
    "    linkedlist = linked_list_data[word].head\n",
    "    df=linked_list_data[word].ndoc\n",
    "    idf=0\n",
    "    idf = math.log2(nTot/df)+1\n",
    "    linked_list_data[word].idf=idf\n",
    "    while linkedlist.nextval is not None:\n",
    "        linkedlist = linkedlist.nextval\n",
    "        linkedlist.tfidf = idf * linkedlist.freq"
   ],
   "metadata": {
    "collapsed": false,
    "ExecuteTime": {
     "end_time": "2023-09-13T09:50:04.989086200Z",
     "start_time": "2023-09-13T09:50:04.975278300Z"
    }
   },
   "id": "26bcebd74ad16016"
  },
  {
   "cell_type": "code",
   "execution_count": 116,
   "outputs": [],
   "source": [
    "dict_words=list(unique_words_all)\n",
    "total_files = len(files_with_index)\n",
    "total_vocab = len(dict_words)\n",
    "vecD = np.zeros((total_files,total_vocab))\n",
    "for i in range(len(dict_words)):\n",
    "    linkedlist = linked_list_data[dict_words[i]].head\n",
    "    while linkedlist.nextval is not None:\n",
    "        linkedlist = linkedlist.nextval\n",
    "        vecD[linkedlist.doc - 1][i] = linkedlist.tfidf"
   ],
   "metadata": {
    "collapsed": false,
    "ExecuteTime": {
     "end_time": "2023-09-13T09:50:05.013259800Z",
     "start_time": "2023-09-13T09:50:04.988085500Z"
    }
   },
   "id": "c2499f6600d17b3c"
  },
  {
   "cell_type": "code",
   "execution_count": 117,
   "outputs": [
    {
     "name": "stdout",
     "output_type": "stream",
     "text": [
      "baik\n"
     ]
    }
   ],
   "source": [
    "query = input('Enter your query:')\n",
    "dict_query = {}\n",
    "vecQ = np.zeros(total_vocab)\n",
    "wordsq = word_tokenize(query)\n",
    "# wordsq = [word for word in wordsq if len(wordsq)>1]\n",
    "wordsq = [word.lower() for word in wordsq]\n",
    "wordsq = [word for word in wordsq if word not in Stopwords]\n",
    "wordsq = [stemmer.stem(word) for word in wordsq]\n",
    "dict_query.update(finding_all_unique_words_and_freq(wordsq))\n",
    "for word in dict_query.keys():\n",
    "    print(word)\n",
    "    vecQ[dict_words.index(word)] = linked_list_data[word].idf * dict_query[word]\n"
   ],
   "metadata": {
    "collapsed": false,
    "ExecuteTime": {
     "end_time": "2023-09-13T09:50:08.350208900Z",
     "start_time": "2023-09-13T09:50:05.005330100Z"
    }
   },
   "id": "f2197883d5aef181"
  },
  {
   "cell_type": "code",
   "execution_count": 118,
   "outputs": [],
   "source": [
    "def cosine_sim(a, b):\n",
    "    cos_sim = np.dot(a, b)/(np.linalg.norm(a)*np.linalg.norm(b))\n",
    "    return cos_sim"
   ],
   "metadata": {
    "collapsed": false,
    "ExecuteTime": {
     "end_time": "2023-09-13T09:50:08.352718700Z",
     "start_time": "2023-09-13T09:50:08.319437Z"
    }
   },
   "id": "e386cf570a24ca5e"
  },
  {
   "cell_type": "code",
   "execution_count": 119,
   "outputs": [
    {
     "name": "stdout",
     "output_type": "stream",
     "text": [
      "[25  2  1  4 43 24  0 45 19  3 47 35 34  7 42 12 17 16 15 14 13  8 11 10\n",
      "  9  6  5 46 18 21 20 41 40 39 38 37 36 33 32 31 30 29 28 27 26 44 48 23\n",
      " 22 49]\n"
     ]
    }
   ],
   "source": [
    "d_cosines = []\n",
    "for d in vecD:\n",
    "    d_cosines.append(cosine_sim(vecQ,d))\n",
    "    # print(d_cosines)\n",
    "out=np.array(d_cosines).argsort()[-total_files:][::-1]\n",
    "print(out)"
   ],
   "metadata": {
    "collapsed": false,
    "ExecuteTime": {
     "end_time": "2023-09-13T09:50:08.434425600Z",
     "start_time": "2023-09-13T09:50:08.331948900Z"
    }
   },
   "id": "f482a0cca9de938d"
  }
 ],
 "metadata": {
  "kernelspec": {
   "display_name": "Python 3",
   "language": "python",
   "name": "python3"
  },
  "language_info": {
   "codemirror_mode": {
    "name": "ipython",
    "version": 2
   },
   "file_extension": ".py",
   "mimetype": "text/x-python",
   "name": "python",
   "nbconvert_exporter": "python",
   "pygments_lexer": "ipython2",
   "version": "2.7.6"
  }
 },
 "nbformat": 4,
 "nbformat_minor": 5
}
